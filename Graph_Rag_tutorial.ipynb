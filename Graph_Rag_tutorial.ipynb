{
 "cells": [
  {
   "cell_type": "code",
   "execution_count": null,
   "id": "1e4368be-e869-4c14-82ee-b52f26f907b0",
   "metadata": {},
   "outputs": [],
   "source": []
  },
  {
   "cell_type": "code",
   "execution_count": null,
   "id": "b730c7c6-8cae-430f-8f4f-f9aa382897a3",
   "metadata": {},
   "outputs": [],
   "source": []
  },
  {
   "cell_type": "code",
   "execution_count": null,
   "id": "4f3b9aa6-abf3-40cf-9e7a-9d2ccc64d436",
   "metadata": {},
   "outputs": [],
   "source": []
  },
  {
   "cell_type": "code",
   "execution_count": null,
   "id": "1edee817-e14a-48d9-80ba-74d8adc721db",
   "metadata": {},
   "outputs": [],
   "source": []
  },
  {
   "cell_type": "code",
   "execution_count": null,
   "id": "e6e804b8-da52-48a0-8700-855941e970e8",
   "metadata": {},
   "outputs": [],
   "source": [
    "!pip install -r requirements.txt"
   ]
  },
  {
   "cell_type": "code",
   "execution_count": 1,
   "id": "d1a3a048-f603-49a1-b3a6-25a1d6a2aadd",
   "metadata": {},
   "outputs": [
    {
     "name": "stdout",
     "output_type": "stream",
     "text": [
      "Nodes in the graph: [('Artificial Intelligence', {'description': 'A field of computer science focused on building smart machines.', 'type': 'Field'}), ('Machine Learning', {'description': 'A subset of AI involving the use of data and algorithms to mimic human learning.', 'type': 'Subfield'}), ('Deep Learning', {'description': 'A subset of machine learning using neural networks with many layers.', 'type': 'Subfield'})]\n",
      "Edges in the graph: [('Artificial Intelligence', 'Machine Learning', {'relation': 'has_subfield'}), ('Machine Learning', 'Deep Learning', {'relation': 'has_subfield'})]\n"
     ]
    }
   ],
   "source": [
    "\n",
    "import networkx as nx\n",
    "\n",
    "# Create a new directed graph\n",
    "G = nx.DiGraph()\n",
    "\n",
    "# Add nodes with attributes (e.g., entity types, descriptions)\n",
    "G.add_node(\"Artificial Intelligence\", description=\"A field of computer science focused on building smart machines.\", type=\"Field\")\n",
    "G.add_node(\"Machine Learning\", description=\"A subset of AI involving the use of data and algorithms to mimic human learning.\", type=\"Subfield\")\n",
    "G.add_node(\"Deep Learning\", description=\"A subset of machine learning using neural networks with many layers.\", type=\"Subfield\")\n",
    "\n",
    "# Add edges to establish relationships between the nodes\n",
    "G.add_edge(\"Artificial Intelligence\", \"Machine Learning\", relation=\"has_subfield\")\n",
    "G.add_edge(\"Machine Learning\", \"Deep Learning\", relation=\"has_subfield\")\n",
    "\n",
    "# Optionally, you can visualize the graph or query it\n",
    "print(\"Nodes in the graph:\", G.nodes(data=True))\n",
    "print(\"Edges in the graph:\", G.edges(data=True))"
   ]
  },
  {
   "cell_type": "code",
   "execution_count": null,
   "id": "1894c962-a5b0-49a8-a1a6-9819e2fd3c65",
   "metadata": {},
   "outputs": [],
   "source": []
  },
  {
   "cell_type": "code",
   "execution_count": 2,
   "id": "5c26885e-69a3-487a-bbd4-3f2c0f082ab4",
   "metadata": {},
   "outputs": [
    {
     "name": "stderr",
     "output_type": "stream",
     "text": [
      "Some weights of the model checkpoint at facebook/dpr-question_encoder-single-nq-base were not used when initializing DPRQuestionEncoder: ['question_encoder.bert_model.pooler.dense.bias', 'question_encoder.bert_model.pooler.dense.weight']\n",
      "- This IS expected if you are initializing DPRQuestionEncoder from the checkpoint of a model trained on another task or with another architecture (e.g. initializing a BertForSequenceClassification model from a BertForPreTraining model).\n",
      "- This IS NOT expected if you are initializing DPRQuestionEncoder from the checkpoint of a model that you expect to be exactly identical (initializing a BertForSequenceClassification model from a BertForSequenceClassification model).\n"
     ]
    }
   ],
   "source": [
    "import faiss\n",
    "import numpy as np\n",
    "import torch\n",
    "from transformers import DPRQuestionEncoder, DPRQuestionEncoderTokenizer\n",
    "\n",
    "# Load a pre-trained model and tokenizer\n",
    "tokenizer = DPRQuestionEncoderTokenizer.from_pretrained(\"facebook/dpr-question_encoder-single-nq-base\")\n",
    "model = DPRQuestionEncoder.from_pretrained(\"facebook/dpr-question_encoder-single-nq-base\")\n",
    "\n",
    "# example embedding\n",
    "input_ids = tokenizer(\"Hello, is my dog cute ?\", return_tensors=\"pt\")[\"input_ids\"]\n",
    "embeddings = model(input_ids).pooler_output"
   ]
  },
  {
   "cell_type": "code",
   "execution_count": 3,
   "id": "1c4e937b-ea08-442f-8727-41a4c6010242",
   "metadata": {},
   "outputs": [
    {
     "name": "stdout",
     "output_type": "stream",
     "text": [
      "tensor([[ 3.2362e-02,  1.2753e-01,  1.6819e-01,  2.7976e-03,  3.8969e-01,\n",
      "          2.4265e-01,  2.1790e-01, -2.3352e-02, -8.4820e-02, -1.4324e-01,\n",
      "         -4.6391e-01, -7.3888e-02, -2.6837e-01, -2.5854e-01, -3.9385e-01,\n",
      "         -4.6203e-02,  4.6798e-02,  2.9801e-01, -7.3548e-02,  1.9216e-01,\n",
      "         -9.2044e-02, -3.9324e-01, -4.1118e-01, -5.0958e-01,  1.7611e-01,\n",
      "          1.4473e-01,  1.2819e-01,  3.6131e-01, -3.7362e-01, -4.8173e-02,\n",
      "         -1.3587e-01, -2.2887e-01,  4.0440e-01, -2.7060e-01, -1.5117e-01,\n",
      "          1.1219e-01, -1.0912e-01, -1.8131e-01, -2.0688e-01,  3.5515e-01,\n",
      "          2.4943e-01,  1.4510e-01,  1.9775e-01, -4.0816e-02, -2.7108e-01,\n",
      "         -1.0122e-01, -7.1524e-01,  1.9005e-01,  4.7088e-01, -1.7366e-01,\n",
      "          5.3381e-02,  2.5160e-01,  1.4066e-02, -5.7960e-02, -9.5530e-02,\n",
      "          1.0499e-01,  2.2886e-02, -3.8995e-01,  8.1239e-03, -5.6475e-02,\n",
      "          2.6910e-02,  6.4864e-02,  2.2938e-01,  5.1146e-02, -4.0683e-01,\n",
      "          5.7723e-01,  1.0042e-01,  9.0855e-02, -1.0640e-01,  4.6519e-01,\n",
      "          6.1561e-01, -4.8683e-02, -1.4866e-01,  1.2666e-01, -4.2596e-02,\n",
      "         -1.9395e-01,  1.1658e-01,  1.8134e-01,  8.2557e-02,  5.8774e-01,\n",
      "          2.0405e-02, -9.0588e-02,  3.6941e-01,  1.0536e-01,  3.0188e-01,\n",
      "          1.3323e-01,  6.4659e-02,  3.9514e-01, -8.4891e-03, -2.2416e-01,\n",
      "          3.8507e-01, -2.8729e-01, -1.6417e-01, -1.8154e-01,  8.6068e-02,\n",
      "         -2.6336e-01, -3.3661e-02,  4.9549e-02, -1.8191e-01, -5.2836e-02,\n",
      "         -4.2271e-01,  2.7330e-01,  9.9315e-02,  1.1281e-01, -1.6689e-01,\n",
      "         -7.3107e-02,  2.6794e-01, -4.5534e-01, -1.1810e-01,  1.2452e-01,\n",
      "         -1.0444e-01, -3.3305e-01,  3.2734e-01,  3.2369e-04,  2.6326e-01,\n",
      "          8.3459e-01,  1.2842e-01, -4.0077e-02, -5.0097e-01,  1.1340e-01,\n",
      "         -2.5709e-01, -1.6445e-01,  8.5330e-02,  7.9122e-02,  4.4862e-01,\n",
      "          4.1384e-02, -1.9748e-01, -2.0288e-02,  1.7722e-01, -5.7000e-02,\n",
      "          2.1948e-01, -2.0916e-01,  2.0550e-01,  8.5664e-02,  3.5774e-01,\n",
      "          2.4125e-01,  6.8650e-02, -2.5506e-01, -2.5776e-02, -1.3675e-01,\n",
      "         -2.4681e-02,  3.3409e-01, -8.3120e-02,  1.8028e-01,  9.5333e-02,\n",
      "          9.8230e-02, -1.6056e-01,  9.2249e-02, -1.4878e-01, -1.2596e-01,\n",
      "         -1.6860e-01,  4.7153e-01, -2.2648e-01, -1.2562e-01, -2.6829e-01,\n",
      "         -1.2240e-01, -1.8336e-01, -1.6082e-01,  1.7168e-01,  3.7210e-02,\n",
      "         -3.1830e-02, -5.2988e-03, -1.8532e-01,  7.4846e-02,  1.6868e-01,\n",
      "         -1.2895e-01,  2.7866e-01,  9.9320e-02, -4.5210e-01,  3.2991e-02,\n",
      "          1.8793e-01, -5.7285e-02,  5.7069e-01,  1.1113e-01,  3.8262e-01,\n",
      "          4.5961e-01,  5.8764e-01, -6.0741e-01,  8.6788e-03, -3.7806e-02,\n",
      "         -2.3067e-01, -8.8964e-03,  1.5450e-01,  1.6788e-01,  1.4479e-01,\n",
      "         -7.3410e-02,  2.1384e-02,  1.5717e-02, -5.4525e-02, -1.9575e-01,\n",
      "         -1.9395e-01, -5.2599e-01,  3.6564e-01,  6.4196e-04,  1.7575e-01,\n",
      "         -5.4058e-02,  6.3562e-02, -4.1033e-01,  1.7660e-01,  1.7248e-01,\n",
      "          2.0585e-01, -2.7532e-01,  3.6582e-01,  2.2261e-01, -1.7325e-01,\n",
      "          2.6388e-02, -2.2735e-01,  1.7674e-01, -9.9883e-02,  3.7035e-01,\n",
      "         -8.4475e-02, -5.8884e-02,  4.3226e-01,  1.5449e-01, -6.9782e-02,\n",
      "          2.5231e-01,  4.2396e-01, -2.1599e-01, -4.5614e-01,  6.0203e-02,\n",
      "         -1.4179e-01, -3.1427e-02, -2.8174e-01,  4.1800e-01,  2.3212e-01,\n",
      "          1.5168e-01,  5.5360e-01, -6.3566e-02,  1.5249e-01,  5.6635e-02,\n",
      "          2.9133e-02, -8.2373e-02, -6.2576e-02, -1.3222e-01, -3.1490e-01,\n",
      "          3.7523e-01,  1.7315e-01, -2.0692e-01,  1.4259e-01, -1.0657e-01,\n",
      "         -2.1461e-01,  1.5218e-01,  3.1865e-01, -1.5549e-01, -2.4344e-02,\n",
      "         -2.7106e-01,  3.2571e-01,  2.7320e-01,  6.2450e-02, -1.8577e-01,\n",
      "         -1.1197e-01, -9.4112e-02,  3.9098e-01, -8.8927e-02,  3.0010e-01,\n",
      "         -2.7107e-01,  4.7402e-02,  1.7057e-01,  2.3080e-01, -8.8763e-03,\n",
      "          1.6469e-01, -5.8811e-02,  6.6386e-02, -2.6284e-02,  6.2852e-02,\n",
      "          1.3989e-01,  1.3984e-01, -1.7920e-01,  2.1253e-01,  3.0814e-01,\n",
      "         -2.0529e-02,  2.5340e-01,  4.2014e-02,  2.6062e-01,  2.5198e-02,\n",
      "         -6.1008e-02,  3.4315e-01,  9.1595e-02,  1.5206e-01, -2.7575e-01,\n",
      "         -9.3109e-03,  1.7926e-01, -5.7902e-01, -1.0497e-01,  5.0477e-02,\n",
      "         -3.3277e-01,  2.5250e-01, -3.0984e-01, -3.2058e-01,  1.2847e-01,\n",
      "         -2.0591e-01,  5.0088e-02, -2.3956e-01,  1.1376e-03, -9.3331e-02,\n",
      "          5.7329e-02,  5.0296e-01, -1.8362e-02, -2.3736e-01,  4.8960e-02,\n",
      "          3.2597e-01,  2.0785e-01,  1.5782e-01, -2.7613e-02,  1.3440e-01,\n",
      "          5.4076e-02, -1.1185e-01, -3.5541e-01, -7.1393e+00,  1.7427e-01,\n",
      "         -7.8099e-02, -9.5480e-02,  1.6093e-01,  8.0209e-02,  2.1475e-01,\n",
      "         -1.5533e-02,  2.4333e-01,  1.8124e-01, -2.9411e-01, -2.8267e-02,\n",
      "          1.6547e-01, -3.3697e-01,  1.7529e-02, -6.6073e-01, -2.7563e-01,\n",
      "          1.4775e-02, -1.2865e-01, -1.8649e-01, -2.7616e-01, -6.0314e-02,\n",
      "          8.7411e-02,  2.9443e-02,  4.9833e-02,  3.4373e-01,  2.2232e-02,\n",
      "         -1.3814e-01,  1.0737e-04, -1.8935e-01,  2.0045e-01, -2.0245e-01,\n",
      "          3.5862e-02,  1.6925e-01, -1.0189e-01,  1.9251e-01,  2.0401e-01,\n",
      "         -2.4895e-02,  5.1237e-01,  3.4907e-01,  5.3857e-01, -4.0124e-02,\n",
      "          9.1059e-02, -9.7615e-02, -6.4292e-02, -9.2088e-02, -1.2196e-01,\n",
      "         -9.1012e-02, -1.1007e-04, -1.5499e-01,  1.7809e-01,  2.4881e-01,\n",
      "         -2.5600e-01, -6.1665e-02,  4.1770e-01, -3.0236e-02,  7.9660e-02,\n",
      "          8.6026e-02, -1.3132e-01, -3.5688e-01,  1.0893e-01, -7.1122e-02,\n",
      "         -2.5266e-01, -1.5556e-01, -9.7523e-02,  2.4732e-01, -1.5915e-01,\n",
      "         -1.2056e-01, -2.2858e-01,  1.7860e-01,  9.7476e-02, -2.0235e-01,\n",
      "         -6.1219e-02, -5.9641e-01, -9.8428e-02,  4.3428e-02,  5.6786e-02,\n",
      "         -6.9429e-03, -2.2951e-01, -1.8413e-01, -1.0598e-01, -1.4274e-01,\n",
      "         -1.5659e-01,  4.3587e-01, -2.6332e-01, -7.3873e-01, -1.5620e-01,\n",
      "         -2.8506e-01, -1.4681e-01,  1.1077e-01,  3.0828e-01, -2.7685e-01,\n",
      "         -2.3267e-01, -1.9138e-01,  1.5345e-01, -2.3600e-02, -7.5905e-02,\n",
      "          2.4346e-01, -1.0680e-01,  9.9119e-02, -9.4819e-03, -1.5086e-04,\n",
      "         -7.3378e-02,  2.0689e-01,  5.2496e-01, -4.4286e-02, -2.0732e-01,\n",
      "          6.0235e-02,  5.0879e-01,  4.8396e-03, -1.4018e-01, -4.0876e-01,\n",
      "         -3.8275e-01, -9.7285e-02,  9.7231e-02,  3.7608e-01,  2.3932e-01,\n",
      "          5.2508e-02,  5.5138e-02,  4.3566e-01, -3.7737e-01,  5.4349e-02,\n",
      "          1.7392e-01,  2.0118e-01,  1.3713e-01, -5.8710e-03, -6.1113e-02,\n",
      "         -4.0265e-01, -1.3523e-01,  3.3718e-02,  4.7787e-01,  2.2531e-01,\n",
      "         -1.4254e-01,  1.3290e-02,  1.9367e-01,  9.2468e-02, -5.3262e-02,\n",
      "         -3.0221e-01, -1.0693e-01,  2.4146e-02, -1.9509e-01,  5.1923e-02,\n",
      "         -1.4677e-01,  1.6168e-01,  2.3129e-01, -1.9472e-03, -4.6631e-02,\n",
      "          1.1263e-01,  4.9186e-02, -8.0467e-02,  8.7306e-02, -4.7228e-01,\n",
      "          2.2954e-01,  2.6859e-02, -1.9799e-01,  5.0941e-03,  1.0001e-02,\n",
      "         -7.3734e-04, -4.9104e-01,  2.6292e-01, -4.1721e-03, -1.4045e-01,\n",
      "         -1.1781e-01,  2.2384e-02, -2.5763e-01, -2.2922e-01, -1.0261e-02,\n",
      "         -9.8169e-02, -1.4510e-01, -1.0437e-01,  2.4027e-01, -4.7115e-02,\n",
      "          1.6398e-01,  3.9762e-02, -2.6916e-01, -9.7654e-02, -1.0584e-02,\n",
      "          4.9402e-02,  6.7657e-02, -9.1783e-02,  1.3898e-01, -1.8355e-01,\n",
      "          2.2163e-01,  3.6460e-01,  4.0472e-01,  5.7684e-02,  5.6181e-01,\n",
      "         -1.4057e-01,  3.6533e-01, -4.8554e-02, -3.8046e-02,  4.0741e-01,\n",
      "          2.2992e-01,  2.4822e-01, -3.3208e-02, -4.7137e-01,  2.0125e-01,\n",
      "          9.7245e-03, -2.0468e-01,  1.4204e-01, -3.5090e-01,  1.5618e-02,\n",
      "         -9.4774e-02, -2.3666e-01, -7.6557e-02, -3.5025e-01, -9.5222e-02,\n",
      "         -9.4603e-02,  6.4577e-02,  1.9484e-01,  7.9376e-02, -3.0643e-01,\n",
      "          2.2679e-01, -3.2556e-01,  1.7118e-01,  6.5701e-05, -1.9282e-01,\n",
      "         -1.0643e-01, -1.7584e-01, -8.2613e-02, -4.2825e-01, -2.1793e-01,\n",
      "         -1.5026e-01,  1.9912e-01,  2.9695e-02, -1.2832e-01, -2.3707e-01,\n",
      "         -7.2663e-02,  3.6604e-01, -2.7813e-01,  2.2663e-01,  1.7094e-01,\n",
      "          2.4220e-01,  1.5082e-01, -2.3686e-01, -2.3627e-01,  3.3585e-02,\n",
      "          1.3693e-02,  3.7032e-01,  5.5959e-01,  3.1254e-01, -2.5198e-02,\n",
      "          1.0608e-01, -3.4539e-01, -1.4900e-01,  1.1777e-02, -1.8552e-01,\n",
      "          4.5799e-02, -2.8589e-01,  1.2186e-01,  4.4819e-02,  1.8755e-01,\n",
      "          2.3863e-01,  1.5016e-01, -9.2636e-02, -1.3535e-01, -3.8157e-01,\n",
      "          1.7062e-02, -4.0374e-01, -1.5943e-02, -3.7673e-01,  2.0706e-01,\n",
      "          1.9216e-01,  3.4254e-01,  4.7791e-02,  2.8541e-02, -1.4115e-01,\n",
      "         -1.9726e-01,  1.5036e-01,  9.0841e-02, -3.2524e-01, -1.8992e-01,\n",
      "          3.2920e-01,  1.7973e-02, -1.4322e-01,  9.8734e-02,  1.0672e-01,\n",
      "          2.0776e-01, -1.0976e-01, -1.3543e-01,  3.5227e-02,  4.5442e-01,\n",
      "         -1.5829e-01, -1.5884e-01,  9.5601e-04, -1.3983e-01, -6.0337e-02,\n",
      "         -2.6589e-01,  8.7827e-02,  2.5578e-01, -8.9865e-02,  6.0750e-01,\n",
      "         -7.1326e-02,  5.6872e-02,  7.7548e-02,  1.4320e-01,  1.9940e-01,\n",
      "          2.4761e-01, -2.9135e-01, -4.3575e-01, -1.5470e-01,  4.2004e-02,\n",
      "          2.5582e-01, -4.0694e-01,  9.9731e-02,  1.0175e-01,  1.1695e-01,\n",
      "          1.9467e-01, -2.9579e-01,  1.3569e-01, -1.8357e-01, -2.2529e-01,\n",
      "          1.0687e-03,  2.4911e-01,  8.6472e-02,  1.9163e-01, -2.5127e-01,\n",
      "         -1.5991e-01, -2.4981e-01,  1.8490e-01,  1.2312e-01, -5.0545e-01,\n",
      "         -2.1518e-01,  1.6814e-01, -2.0216e-01,  2.3382e-01, -3.1224e-01,\n",
      "          6.0061e-01,  3.4192e-01,  2.6166e-01, -1.2972e-01, -3.7337e-01,\n",
      "          1.6324e-01,  3.6114e-02,  3.9693e-01, -7.9514e-02,  2.3560e-01,\n",
      "         -1.5807e-01, -3.5492e-01,  3.8315e-02, -1.4812e-01,  3.5458e-01,\n",
      "         -3.5114e-01,  3.6068e-02,  7.1446e-02, -9.2112e-02,  1.0276e-01,\n",
      "          5.2074e-02,  6.3275e-02,  2.9857e-01,  1.2835e-01,  4.4148e-01,\n",
      "         -3.9236e-01,  3.0965e-01, -5.1559e-02, -1.3561e-01, -2.3428e-02,\n",
      "         -2.9003e-01, -3.5008e-02, -1.0733e-01,  1.0468e-01, -1.1165e-01,\n",
      "         -2.3425e-01,  2.6908e-01,  6.2352e-03,  1.0370e-02,  2.2543e-01,\n",
      "         -5.0252e-02,  3.4789e-01,  2.7347e-01, -2.1448e-01,  2.4123e-01,\n",
      "          2.5623e-01,  1.8025e-01, -3.7561e-01, -8.1987e-02,  6.9478e-02,\n",
      "          5.7228e-02, -2.7248e-01, -5.2399e-02, -4.2713e-01,  3.9711e-01,\n",
      "         -1.6745e-01, -1.1173e-02,  4.2851e-02,  3.1187e-02, -9.8083e-02,\n",
      "         -2.4309e-01, -2.9941e-01, -3.4875e-01,  4.9200e-02, -4.2005e-01,\n",
      "         -2.1403e-01,  1.8401e-01,  2.6498e-01, -2.5012e-01,  3.3277e-01,\n",
      "          1.5103e-01,  2.4362e-01,  4.7355e-02,  3.5815e-02, -3.8320e-01,\n",
      "          1.3416e-01, -2.2653e-01,  1.7016e-02,  2.8525e-02,  1.1923e-01,\n",
      "         -5.0313e-01,  2.1375e-01,  1.4963e-02,  9.9723e-02,  3.9135e-01,\n",
      "          1.0846e-01, -2.6654e-01, -8.6416e-02, -1.1758e-01, -1.1932e-01,\n",
      "         -8.4842e-02,  8.8671e-02, -1.9478e-01,  5.3636e-01, -1.9420e-01,\n",
      "          1.4294e-01, -2.7372e-01, -1.7724e-01,  8.3980e-03,  7.8950e-02,\n",
      "         -5.1464e-01, -3.2976e-01, -4.7155e-02,  2.4786e-02,  2.0293e-01,\n",
      "          1.2779e-01, -2.6172e-01, -1.0421e-01, -2.0994e-01,  1.2395e-01,\n",
      "         -1.6510e-01,  5.5258e-02, -2.3204e-01,  1.3676e-01, -4.2763e-02,\n",
      "         -4.1630e-01,  1.5371e-01, -2.2219e-01,  8.0793e-01,  1.0167e-01,\n",
      "         -2.9061e-01, -5.0276e-01, -5.9417e-01, -1.2679e-01, -9.1885e-02,\n",
      "         -1.7382e-01,  2.6864e-02,  5.6834e-02, -9.5955e-02, -9.0954e-02,\n",
      "          1.0376e-01,  8.6415e-02,  2.8638e-01]], grad_fn=<SliceBackward0>)\n"
     ]
    }
   ],
   "source": [
    "\n",
    "print(embeddings)"
   ]
  },
  {
   "cell_type": "code",
   "execution_count": 4,
   "id": "d17a5da6-8e95-4204-b9db-a7cd2d4e8a6e",
   "metadata": {},
   "outputs": [
    {
     "name": "stderr",
     "output_type": "stream",
     "text": [
      "Asking to truncate to max_length but no maximum length is provided and the model has no predefined maximum length. Default to no truncation.\n"
     ]
    },
    {
     "ename": "AttributeError",
     "evalue": "'DPRQuestionEncoderOutput' object has no attribute 'last_hidden_state'",
     "output_type": "error",
     "traceback": [
      "\u001b[0;31m---------------------------------------------------------------------------\u001b[0m",
      "\u001b[0;31mAttributeError\u001b[0m                            Traceback (most recent call last)",
      "Cell \u001b[0;32mIn[4], line 16\u001b[0m\n\u001b[1;32m     13\u001b[0m     \u001b[38;5;28;01mreturn\u001b[39;00m embeddings\u001b[38;5;241m.\u001b[39mmean(dim\u001b[38;5;241m=\u001b[39m\u001b[38;5;241m1\u001b[39m)\u001b[38;5;241m.\u001b[39mnumpy()  \u001b[38;5;66;03m# Return the mean of the token embeddings\u001b[39;00m\n\u001b[1;32m     15\u001b[0m \u001b[38;5;66;03m# Encode the entire corpus\u001b[39;00m\n\u001b[0;32m---> 16\u001b[0m encoded_corpus \u001b[38;5;241m=\u001b[39m np\u001b[38;5;241m.\u001b[39mvstack([\u001b[43mencode\u001b[49m\u001b[43m(\u001b[49m\u001b[43mdoc\u001b[49m\u001b[43m)\u001b[49m \u001b[38;5;28;01mfor\u001b[39;00m doc \u001b[38;5;129;01min\u001b[39;00m corpus])\n\u001b[1;32m     18\u001b[0m \u001b[38;5;66;03m# Build the FAISS index\u001b[39;00m\n\u001b[1;32m     19\u001b[0m index \u001b[38;5;241m=\u001b[39m faiss\u001b[38;5;241m.\u001b[39mIndexFlatL2(encoded_corpus\u001b[38;5;241m.\u001b[39mshape[\u001b[38;5;241m1\u001b[39m])\n",
      "Cell \u001b[0;32mIn[4], line 12\u001b[0m, in \u001b[0;36mencode\u001b[0;34m(text)\u001b[0m\n\u001b[1;32m     10\u001b[0m inputs \u001b[38;5;241m=\u001b[39m tokenizer(text, return_tensors\u001b[38;5;241m=\u001b[39m\u001b[38;5;124m\"\u001b[39m\u001b[38;5;124mpt\u001b[39m\u001b[38;5;124m\"\u001b[39m, padding\u001b[38;5;241m=\u001b[39m\u001b[38;5;28;01mTrue\u001b[39;00m, truncation\u001b[38;5;241m=\u001b[39m\u001b[38;5;28;01mTrue\u001b[39;00m)\n\u001b[1;32m     11\u001b[0m \u001b[38;5;28;01mwith\u001b[39;00m torch\u001b[38;5;241m.\u001b[39mno_grad():  \u001b[38;5;66;03m# Disable gradient calculation\u001b[39;00m\n\u001b[0;32m---> 12\u001b[0m     embeddings \u001b[38;5;241m=\u001b[39m \u001b[43mmodel\u001b[49m\u001b[43m(\u001b[49m\u001b[38;5;241;43m*\u001b[39;49m\u001b[38;5;241;43m*\u001b[39;49m\u001b[43minputs\u001b[49m\u001b[43m)\u001b[49m\u001b[38;5;241;43m.\u001b[39;49m\u001b[43mlast_hidden_state\u001b[49m  \u001b[38;5;66;03m# Access the last_hidden_state\u001b[39;00m\n\u001b[1;32m     13\u001b[0m \u001b[38;5;28;01mreturn\u001b[39;00m embeddings\u001b[38;5;241m.\u001b[39mmean(dim\u001b[38;5;241m=\u001b[39m\u001b[38;5;241m1\u001b[39m)\u001b[38;5;241m.\u001b[39mnumpy()\n",
      "\u001b[0;31mAttributeError\u001b[0m: 'DPRQuestionEncoderOutput' object has no attribute 'last_hidden_state'"
     ]
    }
   ],
   "source": [
    "# Example corpus and queries\n",
    "corpus = [\n",
    "    \"AI is transforming industries.\",\n",
    "    \"Machine Learning is part of AI.\",\n",
    "    \"Deep Learning is a type of Machine Learning.\"\n",
    "]\n",
    "queries = [\"What is AI?\", \"What is Machine Learning?\"]\n",
    "\n",
    "def encode(text):\n",
    "    inputs = tokenizer(text, return_tensors=\"pt\", padding=True, truncation=True)\n",
    "    with torch.no_grad():  # Disable gradient calculation\n",
    "        embeddings = model(**inputs).last_hidden_state  # Access the last_hidden_state\n",
    "    return embeddings.mean(dim=1).numpy()  # Return the mean of the token embeddings\n",
    "\n",
    "# Encode the entire corpus\n",
    "encoded_corpus = np.vstack([encode(doc) for doc in corpus])\n",
    "\n",
    "# Build the FAISS index\n",
    "index = faiss.IndexFlatL2(encoded_corpus.shape[1])\n",
    "index.add(encoded_corpus)\n",
    "\n",
    "# Encode a query and search for relevant documents\n",
    "def search(query):\n",
    "    encoded_query = encode(query)\n",
    "    D, I = index.search(encoded_query, k=1)  # k is the number of top documents to return\n",
    "    return I[0][0], D[0][0]  # Return the index and distance\n",
    "\n",
    "# Example query\n",
    "query = \"What is Machine Learning?\"\n",
    "result_index, distance = search(query)\n",
    "print(f\"Top result for query: {corpus[result_index]} with distance: {distance}\")"
   ]
  },
  {
   "cell_type": "code",
   "execution_count": 6,
   "id": "afdd1256-ba93-437a-ac4b-4bc35064f9c2",
   "metadata": {},
   "outputs": [
    {
     "data": {
      "application/vnd.jupyter.widget-view+json": {
       "model_id": "c92d2334b16340f88deb199f6275e7a6",
       "version_major": 2,
       "version_minor": 0
      },
      "text/plain": [
       "vocab.json:   0%|          | 0.00/899k [00:00<?, ?B/s]"
      ]
     },
     "metadata": {},
     "output_type": "display_data"
    },
    {
     "data": {
      "application/vnd.jupyter.widget-view+json": {
       "model_id": "ab14177355a84cf79817bd55da91acce",
       "version_major": 2,
       "version_minor": 0
      },
      "text/plain": [
       "merges.txt:   0%|          | 0.00/456k [00:00<?, ?B/s]"
      ]
     },
     "metadata": {},
     "output_type": "display_data"
    },
    {
     "data": {
      "application/vnd.jupyter.widget-view+json": {
       "model_id": "1e13a36c705946f2881757e85d7d6e06",
       "version_major": 2,
       "version_minor": 0
      },
      "text/plain": [
       "tokenizer.json:   0%|          | 0.00/1.36M [00:00<?, ?B/s]"
      ]
     },
     "metadata": {},
     "output_type": "display_data"
    },
    {
     "name": "stderr",
     "output_type": "stream",
     "text": [
      "Hardware accelerator e.g. GPU is available in the environment, but no `device` argument is passed to the `Pipeline` object. Model will be on CPU.\n"
     ]
    },
    {
     "ename": "AttributeError",
     "evalue": "'DPRQuestionEncoderOutput' object has no attribute 'last_hidden_state'",
     "output_type": "error",
     "traceback": [
      "\u001b[0;31m---------------------------------------------------------------------------\u001b[0m",
      "\u001b[0;31mAttributeError\u001b[0m                            Traceback (most recent call last)",
      "Cell \u001b[0;32mIn[6], line 10\u001b[0m\n\u001b[1;32m      7\u001b[0m query \u001b[38;5;241m=\u001b[39m \u001b[38;5;124m\"\u001b[39m\u001b[38;5;124mExplain the relationship between AI and Deep Learning.\u001b[39m\u001b[38;5;124m\"\u001b[39m\n\u001b[1;32m      9\u001b[0m \u001b[38;5;66;03m# Search for relevant documents (via FAISS)\u001b[39;00m\n\u001b[0;32m---> 10\u001b[0m encoded_query \u001b[38;5;241m=\u001b[39m \u001b[43mmodel\u001b[49m\u001b[43m(\u001b[49m\u001b[38;5;241;43m*\u001b[39;49m\u001b[38;5;241;43m*\u001b[39;49m\u001b[43mtokenizer\u001b[49m\u001b[43m(\u001b[49m\u001b[43mquery\u001b[49m\u001b[43m,\u001b[49m\u001b[43m \u001b[49m\u001b[43mreturn_tensors\u001b[49m\u001b[38;5;241;43m=\u001b[39;49m\u001b[38;5;124;43m\"\u001b[39;49m\u001b[38;5;124;43mpt\u001b[39;49m\u001b[38;5;124;43m\"\u001b[39;49m\u001b[43m)\u001b[49m\u001b[43m)\u001b[49m\u001b[38;5;241;43m.\u001b[39;49m\u001b[43mlast_hidden_state\u001b[49m\u001b[38;5;241m.\u001b[39mmean(dim\u001b[38;5;241m=\u001b[39m\u001b[38;5;241m1\u001b[39m)\u001b[38;5;241m.\u001b[39mdetach()\u001b[38;5;241m.\u001b[39mnumpy()\n\u001b[1;32m     11\u001b[0m D, I \u001b[38;5;241m=\u001b[39m index\u001b[38;5;241m.\u001b[39msearch(encoded_query, k\u001b[38;5;241m=\u001b[39m\u001b[38;5;241m2\u001b[39m)\n\u001b[1;32m     13\u001b[0m \u001b[38;5;66;03m# Retrieve top documents\u001b[39;00m\n",
      "\u001b[0;31mAttributeError\u001b[0m: 'DPRQuestionEncoderOutput' object has no attribute 'last_hidden_state'"
     ]
    }
   ],
   "source": [
    "from transformers import AutoModelForSeq2SeqLM, pipeline\n",
    "\n",
    "# Load a pre-trained language model for sequence-to-sequence generation\n",
    "generation_pipeline = pipeline(\"text2text-generation\",  model=\"facebook/bart-large-cnn\")\n",
    "\n",
    "# Sample query\n",
    "query = \"Explain the relationship between AI and Deep Learning.\"\n",
    "\n",
    "# Search for relevant documents (via FAISS)\n",
    "encoded_query = model(**tokenizer(query, return_tensors=\"pt\")).last_hidden_state.mean(dim=1).detach().numpy()\n",
    "D, I = index.search(encoded_query, k=2)\n",
    "\n",
    "# Retrieve top documents\n",
    "retrieved_docs = [corpus[idx] for idx in I[0]]\n",
    "context = \" \".join(retrieved_docs)\n",
    "\n",
    "# Incorporate the knowledge graph\n",
    "relevant_nodes = [\"Artificial Intelligence\", \"Deep Learning\"]  # Nodes based on some heuristic or lookup\n",
    "\n",
    "# Generate a response grounded in the graph and retrieved documents\n",
    "generation_input = f\"Question: {query}\\nContext: {context}\\nRelevant Nodes: {', '.join(relevant_nodes)}\"\n",
    "generated_response = generation_pipeline(generation_input)\n",
    "print(f\"Generated response: {generated_response[0]['generated_text']}\")\n"
   ]
  },
  {
   "cell_type": "code",
   "execution_count": null,
   "id": "3912388a-383c-459d-9f31-368457ea9342",
   "metadata": {},
   "outputs": [],
   "source": []
  }
 ],
 "metadata": {
  "kernelspec": {
   "display_name": "Python 3 (ipykernel)",
   "language": "python",
   "name": "python3"
  },
  "language_info": {
   "codemirror_mode": {
    "name": "ipython",
    "version": 3
   },
   "file_extension": ".py",
   "mimetype": "text/x-python",
   "name": "python",
   "nbconvert_exporter": "python",
   "pygments_lexer": "ipython3",
   "version": "3.12.6"
  }
 },
 "nbformat": 4,
 "nbformat_minor": 5
}
