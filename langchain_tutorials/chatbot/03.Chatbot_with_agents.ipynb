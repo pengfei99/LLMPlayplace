{
 "cells": [
  {
   "metadata": {},
   "cell_type": "markdown",
   "source": [
    "# Chatbot with agents\n",
    "\n",
    "Agents https://github.com/langchain-ai/langchain/blob/7a95ffc7752f7e7d7a61213a753843e0d0710a0f/docs/docs/tutorials/docs/tutorials/agents: Build a chatbot that can take actions\n",
    "\n"
   ],
   "id": "c823935a2014adb4"
  }
 ],
 "metadata": {
  "kernelspec": {
   "display_name": "Python 3",
   "language": "python",
   "name": "python3"
  },
  "language_info": {
   "codemirror_mode": {
    "name": "ipython",
    "version": 2
   },
   "file_extension": ".py",
   "mimetype": "text/x-python",
   "name": "python",
   "nbconvert_exporter": "python",
   "pygments_lexer": "ipython2",
   "version": "2.7.6"
  }
 },
 "nbformat": 4,
 "nbformat_minor": 5
}
