{
 "cells": [
  {
   "metadata": {},
   "cell_type": "markdown",
   "source": [
    "Conversational RAG: Enable a chatbot experience over an external source of data\n",
    "\n",
    "https://github.com/langchain-ai/langchain/blob/7a95ffc7752f7e7d7a61213a753843e0d0710a0f/docs/docs/tutorials/docs/tutorials/qa_chat_history"
   ],
   "id": "f44a068acf83a944"
  },
  {
   "metadata": {},
   "cell_type": "code",
   "outputs": [],
   "execution_count": null,
   "source": "",
   "id": "2401b18fafe6883"
  },
  {
   "metadata": {},
   "cell_type": "code",
   "outputs": [],
   "execution_count": null,
   "source": "",
   "id": "a62ca0940304da87"
  }
 ],
 "metadata": {
  "kernelspec": {
   "display_name": "Python 3",
   "language": "python",
   "name": "python3"
  },
  "language_info": {
   "codemirror_mode": {
    "name": "ipython",
    "version": 2
   },
   "file_extension": ".py",
   "mimetype": "text/x-python",
   "name": "python",
   "nbconvert_exporter": "python",
   "pygments_lexer": "ipython2",
   "version": "2.7.6"
  }
 },
 "nbformat": 4,
 "nbformat_minor": 5
}
